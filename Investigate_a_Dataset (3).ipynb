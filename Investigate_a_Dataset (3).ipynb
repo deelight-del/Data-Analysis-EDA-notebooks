{
 "cells": [
  {
   "cell_type": "markdown",
   "metadata": {},
   "source": [
    "> **Tip**: Welcome to the Investigate a Dataset project! You will find tips in quoted sections like this to help organize your approach to your investigation. Once you complete this project, remove these **Tip** sections from your report before submission. First things first, you might want to double-click this Markdown cell and change the title so that it reflects your dataset and investigation.\n",
    "\n",
    "# Project: Investigate a Dataset - No Show Appointments\n",
    "\n",
    "## Table of Contents\n",
    "<ul>\n",
    "<li><a href=\"#intro\">Introduction</a></li>\n",
    "<li><a href=\"#wrangling\">Data Wrangling</a></li>\n",
    "<li><a href=\"#eda\">Exploratory Data Analysis</a></li>\n",
    "<li><a href=\"#conclusions\">Conclusions</a></li>\n",
    "</ul>"
   ]
  },
  {
   "cell_type": "markdown",
   "metadata": {},
   "source": [
    "<a id='intro'></a>\n",
    "## Introduction\n",
    "\n",
    "### Dataset Description \n",
    "\n",
    "> The No Show appointment data collected and selected is based on a 100K observation done in Brazil with the target (Dependent) variable showing if a particular patient returned to the hospital or not. It includes several features as columns that are relevant to the dependent variable.\n",
    "The columns include the following:\n",
    "* `Neighbourhood:` This details the loacation of the observed patient\n",
    "* `Scholarship:` Which shows whether the patient is in the Brazillian welfarism program.\n",
    "* `Schedule Day:` The day of their appointmemnt\n",
    "* `Gender:` Male or Female.\n",
    "* `Age:` The age of observed individual.\n",
    "* And columns that describe the various common diseases such as diabetes, Hypertension.\n",
    "* `sms_received:` which shows if patient got or did not get a sms \n",
    "* Dependent Variable column (No Show column): This signals that NO means that the particular observed patient returned and YES shows that they did no return.\n",
    "\n",
    "\n",
    "### Question(s) for Analysis\n",
    "\n",
    ">- Do more male show for appointments than female appointments\n",
    ">- Which age turn up the most and which age have the least turn up.\n",
    ">- What day of the week produces the highest appointment (Weekend or weekdays?)\n",
    ">- Does scholarship determines if an observed patient would go for another appointment. Also what percentage of male or female received scholarship and did it affect the gender in returning for an appointment.\n",
    ">- Which neighbourhood receives the most scholarship and which neighbourhood comes back most for reappointments.\n",
    ">- General type of disease common for those that returned\n",
    ">- Do sms recepient have associated possibility of coming back for another appointment"
   ]
  },
  {
   "cell_type": "code",
   "execution_count": 166,
   "metadata": {},
   "outputs": [],
   "source": [
    "import pandas as pd\n",
    "import numpy as np\n",
    "import matplotlib.pyplot as plt\n",
    "import seaborn as sns\n",
    "\n",
    "%matplotlib inline\n",
    "%config inlineBackend = \"retina\""
   ]
  },
  {
   "cell_type": "code",
   "execution_count": 167,
   "metadata": {},
   "outputs": [],
   "source": [
    "# Upgrade pandas to use dataframe.explode() function. \n",
    "#!pip install --upgrade pandas==0.25.0"
   ]
  },
  {
   "cell_type": "markdown",
   "metadata": {},
   "source": [
    "<a id='wrangling'></a>\n",
    "## Data Wrangling\n",
    "\n",
    "> **Tip**: In this section of the report, you will load in the data, check for cleanliness, and then trim and clean your dataset for analysis. Make sure that you **document your data cleaning steps in mark-down cells precisely and justify your cleaning decisions.**\n",
    "\n",
    "\n",
    "### General Properties\n",
    "> **Tip**: You should _not_ perform too many operations in each cell. Create cells freely to explore your data. One option that you can take with this project is to do a lot of explorations in an initial notebook. These don't have to be organized, but make sure you use enough comments to understand the purpose of each code cell. Then, after you're done with your analysis, create a duplicate notebook where you will trim the excess and organize your steps so that you have a flowing, cohesive report.\n",
    " "
   ]
  },
  {
   "cell_type": "code",
   "execution_count": 168,
   "metadata": {},
   "outputs": [
    {
     "data": {
      "text/html": [
       "<div>\n",
       "<style scoped>\n",
       "    .dataframe tbody tr th:only-of-type {\n",
       "        vertical-align: middle;\n",
       "    }\n",
       "\n",
       "    .dataframe tbody tr th {\n",
       "        vertical-align: top;\n",
       "    }\n",
       "\n",
       "    .dataframe thead th {\n",
       "        text-align: right;\n",
       "    }\n",
       "</style>\n",
       "<table border=\"1\" class=\"dataframe\">\n",
       "  <thead>\n",
       "    <tr style=\"text-align: right;\">\n",
       "      <th></th>\n",
       "      <th>PatientId</th>\n",
       "      <th>AppointmentID</th>\n",
       "      <th>Gender</th>\n",
       "      <th>ScheduledDay</th>\n",
       "      <th>AppointmentDay</th>\n",
       "      <th>Age</th>\n",
       "      <th>Neighbourhood</th>\n",
       "      <th>Scholarship</th>\n",
       "      <th>Hipertension</th>\n",
       "      <th>Diabetes</th>\n",
       "      <th>Alcoholism</th>\n",
       "      <th>Handcap</th>\n",
       "      <th>SMS_received</th>\n",
       "      <th>No-show</th>\n",
       "    </tr>\n",
       "  </thead>\n",
       "  <tbody>\n",
       "    <tr>\n",
       "      <th>0</th>\n",
       "      <td>2.987250e+13</td>\n",
       "      <td>5642903</td>\n",
       "      <td>F</td>\n",
       "      <td>2016-04-29T18:38:08Z</td>\n",
       "      <td>2016-04-29T00:00:00Z</td>\n",
       "      <td>62</td>\n",
       "      <td>JARDIM DA PENHA</td>\n",
       "      <td>0</td>\n",
       "      <td>1</td>\n",
       "      <td>0</td>\n",
       "      <td>0</td>\n",
       "      <td>0</td>\n",
       "      <td>0</td>\n",
       "      <td>No</td>\n",
       "    </tr>\n",
       "  </tbody>\n",
       "</table>\n",
       "</div>"
      ],
      "text/plain": [
       "      PatientId  AppointmentID Gender          ScheduledDay  \\\n",
       "0  2.987250e+13        5642903      F  2016-04-29T18:38:08Z   \n",
       "\n",
       "         AppointmentDay  Age    Neighbourhood  Scholarship  Hipertension  \\\n",
       "0  2016-04-29T00:00:00Z   62  JARDIM DA PENHA            0             1   \n",
       "\n",
       "   Diabetes  Alcoholism  Handcap  SMS_received No-show  \n",
       "0         0           0        0             0      No  "
      ]
     },
     "execution_count": 168,
     "metadata": {},
     "output_type": "execute_result"
    }
   ],
   "source": [
    "#loading data into workspace\n",
    "\n",
    "df = pd.read_csv (\"./Database_No_show_appointments/noshowappointments-kagglev2-may-2016.csv\")\n",
    "df.head(1)"
   ]
  },
  {
   "cell_type": "code",
   "execution_count": 169,
   "metadata": {},
   "outputs": [
    {
     "data": {
      "text/plain": [
       "(110527, 14)"
      ]
     },
     "execution_count": 169,
     "metadata": {},
     "output_type": "execute_result"
    }
   ],
   "source": [
    "#Check shape of data\n",
    "df.shape"
   ]
  },
  {
   "cell_type": "markdown",
   "metadata": {},
   "source": [
    "Obatain the number of unique patientId and AppointmentID. If the number of unique IDs in any case is the number of the rows, this means we can drop the column(s) because the index of the dataframe is enough for indexing. \n",
    "\n",
    "If it is not so, we want to check for duplicate cells and determine if we want to remove the duplicates."
   ]
  },
  {
   "cell_type": "code",
   "execution_count": 170,
   "metadata": {},
   "outputs": [
    {
     "name": "stdout",
     "output_type": "stream",
     "text": [
      "The number of unique appointment ID is 110527\n",
      "The number of unique patient ID is 62299\n"
     ]
    }
   ],
   "source": [
    "print(\"The number of unique appointment ID is\", df[\"AppointmentID\"].nunique())\n",
    "print(\"The number of unique patient ID is\", df[\"PatientId\"].nunique())"
   ]
  },
  {
   "cell_type": "markdown",
   "metadata": {},
   "source": [
    "Let us drop the AppointmentID column.\n",
    "\n",
    "Since we have only 62,299 patients record, this shows that some IDs are duplicate, we need to see if they are actual duplicates and decide on how to deal with them."
   ]
  },
  {
   "cell_type": "code",
   "execution_count": 171,
   "metadata": {},
   "outputs": [],
   "source": [
    "#dropping appointmentId\n",
    "df.drop(\"AppointmentID\", axis = 1, inplace = True)"
   ]
  },
  {
   "cell_type": "code",
   "execution_count": 172,
   "metadata": {},
   "outputs": [
    {
     "data": {
      "text/html": [
       "<div>\n",
       "<style scoped>\n",
       "    .dataframe tbody tr th:only-of-type {\n",
       "        vertical-align: middle;\n",
       "    }\n",
       "\n",
       "    .dataframe tbody tr th {\n",
       "        vertical-align: top;\n",
       "    }\n",
       "\n",
       "    .dataframe thead th {\n",
       "        text-align: right;\n",
       "    }\n",
       "</style>\n",
       "<table border=\"1\" class=\"dataframe\">\n",
       "  <thead>\n",
       "    <tr style=\"text-align: right;\">\n",
       "      <th></th>\n",
       "      <th>PatientId</th>\n",
       "      <th>Gender</th>\n",
       "      <th>ScheduledDay</th>\n",
       "      <th>AppointmentDay</th>\n",
       "      <th>Age</th>\n",
       "      <th>Neighbourhood</th>\n",
       "      <th>Scholarship</th>\n",
       "      <th>Hipertension</th>\n",
       "      <th>Diabetes</th>\n",
       "      <th>Alcoholism</th>\n",
       "      <th>Handcap</th>\n",
       "      <th>SMS_received</th>\n",
       "      <th>No-show</th>\n",
       "    </tr>\n",
       "  </thead>\n",
       "  <tbody>\n",
       "    <tr>\n",
       "      <th>0</th>\n",
       "      <td>2.987250e+13</td>\n",
       "      <td>F</td>\n",
       "      <td>2016-04-29T18:38:08Z</td>\n",
       "      <td>2016-04-29T00:00:00Z</td>\n",
       "      <td>62</td>\n",
       "      <td>JARDIM DA PENHA</td>\n",
       "      <td>0</td>\n",
       "      <td>1</td>\n",
       "      <td>0</td>\n",
       "      <td>0</td>\n",
       "      <td>0</td>\n",
       "      <td>0</td>\n",
       "      <td>No</td>\n",
       "    </tr>\n",
       "    <tr>\n",
       "      <th>1</th>\n",
       "      <td>5.589978e+14</td>\n",
       "      <td>M</td>\n",
       "      <td>2016-04-29T16:08:27Z</td>\n",
       "      <td>2016-04-29T00:00:00Z</td>\n",
       "      <td>56</td>\n",
       "      <td>JARDIM DA PENHA</td>\n",
       "      <td>0</td>\n",
       "      <td>0</td>\n",
       "      <td>0</td>\n",
       "      <td>0</td>\n",
       "      <td>0</td>\n",
       "      <td>0</td>\n",
       "      <td>No</td>\n",
       "    </tr>\n",
       "  </tbody>\n",
       "</table>\n",
       "</div>"
      ],
      "text/plain": [
       "      PatientId Gender          ScheduledDay        AppointmentDay  Age  \\\n",
       "0  2.987250e+13      F  2016-04-29T18:38:08Z  2016-04-29T00:00:00Z   62   \n",
       "1  5.589978e+14      M  2016-04-29T16:08:27Z  2016-04-29T00:00:00Z   56   \n",
       "\n",
       "     Neighbourhood  Scholarship  Hipertension  Diabetes  Alcoholism  Handcap  \\\n",
       "0  JARDIM DA PENHA            0             1         0           0        0   \n",
       "1  JARDIM DA PENHA            0             0         0           0        0   \n",
       "\n",
       "   SMS_received No-show  \n",
       "0             0      No  \n",
       "1             0      No  "
      ]
     },
     "execution_count": 172,
     "metadata": {},
     "output_type": "execute_result"
    }
   ],
   "source": [
    "df.head(2)"
   ]
  },
  {
   "cell_type": "code",
   "execution_count": 173,
   "metadata": {},
   "outputs": [
    {
     "data": {
      "text/plain": [
       "618"
      ]
     },
     "execution_count": 173,
     "metadata": {},
     "output_type": "execute_result"
    }
   ],
   "source": [
    "#Sum of actual duplicates\n",
    "sum(df.duplicated())"
   ]
  },
  {
   "cell_type": "markdown",
   "metadata": {},
   "source": [
    "In order to check for actual duplicates, let us clean the appointmentday column and ScheduledDay column. Before that let us rename the columns"
   ]
  },
  {
   "cell_type": "code",
   "execution_count": 174,
   "metadata": {},
   "outputs": [],
   "source": [
    "df = df.rename(columns = lambda x: x.strip().lower().replace(\"-\", \"_\")) #strip, lower case and replace dash with underscore"
   ]
  },
  {
   "cell_type": "code",
   "execution_count": 175,
   "metadata": {},
   "outputs": [
    {
     "data": {
      "text/html": [
       "<div>\n",
       "<style scoped>\n",
       "    .dataframe tbody tr th:only-of-type {\n",
       "        vertical-align: middle;\n",
       "    }\n",
       "\n",
       "    .dataframe tbody tr th {\n",
       "        vertical-align: top;\n",
       "    }\n",
       "\n",
       "    .dataframe thead th {\n",
       "        text-align: right;\n",
       "    }\n",
       "</style>\n",
       "<table border=\"1\" class=\"dataframe\">\n",
       "  <thead>\n",
       "    <tr style=\"text-align: right;\">\n",
       "      <th></th>\n",
       "      <th>patientid</th>\n",
       "      <th>gender</th>\n",
       "      <th>scheduledday</th>\n",
       "      <th>appointmentday</th>\n",
       "      <th>age</th>\n",
       "      <th>neighbourhood</th>\n",
       "      <th>scholarship</th>\n",
       "      <th>hipertension</th>\n",
       "      <th>diabetes</th>\n",
       "      <th>alcoholism</th>\n",
       "      <th>handcap</th>\n",
       "      <th>sms_received</th>\n",
       "      <th>no_show</th>\n",
       "    </tr>\n",
       "  </thead>\n",
       "  <tbody>\n",
       "    <tr>\n",
       "      <th>0</th>\n",
       "      <td>2.987250e+13</td>\n",
       "      <td>F</td>\n",
       "      <td>2016-04-29T18:38:08Z</td>\n",
       "      <td>2016-04-29T00:00:00Z</td>\n",
       "      <td>62</td>\n",
       "      <td>JARDIM DA PENHA</td>\n",
       "      <td>0</td>\n",
       "      <td>1</td>\n",
       "      <td>0</td>\n",
       "      <td>0</td>\n",
       "      <td>0</td>\n",
       "      <td>0</td>\n",
       "      <td>No</td>\n",
       "    </tr>\n",
       "  </tbody>\n",
       "</table>\n",
       "</div>"
      ],
      "text/plain": [
       "      patientid gender          scheduledday        appointmentday  age  \\\n",
       "0  2.987250e+13      F  2016-04-29T18:38:08Z  2016-04-29T00:00:00Z   62   \n",
       "\n",
       "     neighbourhood  scholarship  hipertension  diabetes  alcoholism  handcap  \\\n",
       "0  JARDIM DA PENHA            0             1         0           0        0   \n",
       "\n",
       "   sms_received no_show  \n",
       "0             0      No  "
      ]
     },
     "execution_count": 175,
     "metadata": {},
     "output_type": "execute_result"
    }
   ],
   "source": [
    "#Check for result\n",
    "df.head(1)"
   ]
  },
  {
   "cell_type": "code",
   "execution_count": 176,
   "metadata": {},
   "outputs": [],
   "source": [
    "#A copy of the actual data incase something gets deprecated\n",
    "df1 = df.copy()"
   ]
  },
  {
   "cell_type": "code",
   "execution_count": 177,
   "metadata": {},
   "outputs": [],
   "source": [
    "#Renaming columns\n",
    "for c in df.columns:\n",
    "    if \"day\" in c:\n",
    "        df.rename(columns = {c: c[:-3] + \"_\" + c[-3:]}, inplace = True)\n",
    "    elif \"id\" in c:\n",
    "        df.rename(columns = {c: c[:-2] + \"_\" + c[-2:]}, inplace = True)\n",
    "    elif c == \"hipertension\":\n",
    "        df.rename(columns = {c: \"hypertension\"}, inplace = True)\n",
    "    elif c == \"handcap\":\n",
    "        df.rename(columns = {c: \"handicap\"}, inplace = True)"
   ]
  },
  {
   "cell_type": "code",
   "execution_count": 178,
   "metadata": {
    "scrolled": true
   },
   "outputs": [
    {
     "data": {
      "text/html": [
       "<div>\n",
       "<style scoped>\n",
       "    .dataframe tbody tr th:only-of-type {\n",
       "        vertical-align: middle;\n",
       "    }\n",
       "\n",
       "    .dataframe tbody tr th {\n",
       "        vertical-align: top;\n",
       "    }\n",
       "\n",
       "    .dataframe thead th {\n",
       "        text-align: right;\n",
       "    }\n",
       "</style>\n",
       "<table border=\"1\" class=\"dataframe\">\n",
       "  <thead>\n",
       "    <tr style=\"text-align: right;\">\n",
       "      <th></th>\n",
       "      <th>patient_id</th>\n",
       "      <th>gender</th>\n",
       "      <th>scheduled_day</th>\n",
       "      <th>appointment_day</th>\n",
       "      <th>age</th>\n",
       "      <th>neighbourhood</th>\n",
       "      <th>scholarship</th>\n",
       "      <th>hypertension</th>\n",
       "      <th>diabetes</th>\n",
       "      <th>alcoholism</th>\n",
       "      <th>handicap</th>\n",
       "      <th>sms_received</th>\n",
       "      <th>no_show</th>\n",
       "    </tr>\n",
       "  </thead>\n",
       "  <tbody>\n",
       "    <tr>\n",
       "      <th>0</th>\n",
       "      <td>2.987250e+13</td>\n",
       "      <td>F</td>\n",
       "      <td>2016-04-29T18:38:08Z</td>\n",
       "      <td>2016-04-29T00:00:00Z</td>\n",
       "      <td>62</td>\n",
       "      <td>JARDIM DA PENHA</td>\n",
       "      <td>0</td>\n",
       "      <td>1</td>\n",
       "      <td>0</td>\n",
       "      <td>0</td>\n",
       "      <td>0</td>\n",
       "      <td>0</td>\n",
       "      <td>No</td>\n",
       "    </tr>\n",
       "  </tbody>\n",
       "</table>\n",
       "</div>"
      ],
      "text/plain": [
       "     patient_id gender         scheduled_day       appointment_day  age  \\\n",
       "0  2.987250e+13      F  2016-04-29T18:38:08Z  2016-04-29T00:00:00Z   62   \n",
       "\n",
       "     neighbourhood  scholarship  hypertension  diabetes  alcoholism  handicap  \\\n",
       "0  JARDIM DA PENHA            0             1         0           0         0   \n",
       "\n",
       "   sms_received no_show  \n",
       "0             0      No  "
      ]
     },
     "execution_count": 178,
     "metadata": {},
     "output_type": "execute_result"
    }
   ],
   "source": [
    "df.head(1)"
   ]
  },
  {
   "cell_type": "markdown",
   "metadata": {},
   "source": [
    "#### Having Cleaned the column names, we can now check to clean the scheduled day and appointment day values."
   ]
  },
  {
   "cell_type": "code",
   "execution_count": 179,
   "metadata": {},
   "outputs": [
    {
     "data": {
      "text/plain": [
       "2016-05-06T07:09:54Z    24\n",
       "2016-05-06T07:09:53Z    23\n",
       "2016-04-25T17:17:46Z    22\n",
       "2016-04-25T17:18:27Z    22\n",
       "2016-04-25T17:17:23Z    19\n",
       "Name: scheduled_day, dtype: int64"
      ]
     },
     "execution_count": 179,
     "metadata": {},
     "output_type": "execute_result"
    }
   ],
   "source": [
    "#check to see the sttructure of the values recorded in the scheduled day column\n",
    "\n",
    "df[\"scheduled_day\"].value_counts().head(5)"
   ]
  },
  {
   "cell_type": "code",
   "execution_count": 181,
   "metadata": {},
   "outputs": [],
   "source": [
    "#Cleaning the scheduled day and appointment day column using the apply function\n",
    "#Create copy for testing and avoidng deperecation\n",
    "\n",
    "df1 = df.copy()\n",
    "\n",
    "#define function to apply to both columns\n",
    "def day_cleaner(x):\n",
    "    ''' A function to select the  first 10 characters.\n",
    "    Useful for when want to extract the first 10 characters that\n",
    "    are actual date format an the remaining string is \n",
    "    irrelevant.\n",
    "    '''\n",
    "    return x[:10]\n",
    "\n",
    "df[\"scheduled_day\"] = df[\"scheduled_day\"].apply(day_cleaner) #Apply function daya cleaner to respective colummns\n",
    "df[\"appointment_day\"] = df[\"appointment_day\"].apply(day_cleaner)"
   ]
  },
  {
   "cell_type": "code",
   "execution_count": 182,
   "metadata": {},
   "outputs": [
    {
     "name": "stdout",
     "output_type": "stream",
     "text": [
      "0    2016-04-29\n",
      "Name: scheduled_day, dtype: object\n"
     ]
    },
    {
     "data": {
      "text/plain": [
       "46852    2016-05-30\n",
       "Name: appointment_day, dtype: object"
      ]
     },
     "execution_count": 182,
     "metadata": {},
     "output_type": "execute_result"
    }
   ],
   "source": [
    "#Print samples of appointment day and scheduled day\n",
    "#to verify that the code above worked as desired\n",
    "\n",
    "print(df[\"scheduled_day\"].head(1))\n",
    "df[\"appointment_day\"].sample(1)"
   ]
  },
  {
   "cell_type": "code",
   "execution_count": 183,
   "metadata": {},
   "outputs": [
    {
     "data": {
      "text/plain": [
       "4222"
      ]
     },
     "execution_count": 183,
     "metadata": {},
     "output_type": "execute_result"
    }
   ],
   "source": [
    "#After cleaning the appointment and scheduled day column which seems to be the same thing,\n",
    "#lets us check amount of dupliacted columns \n",
    "\n",
    "sum(df.duplicated())"
   ]
  },
  {
   "cell_type": "code",
   "execution_count": 184,
   "metadata": {},
   "outputs": [
    {
     "data": {
      "text/plain": [
       "38563"
      ]
     },
     "execution_count": 184,
     "metadata": {},
     "output_type": "execute_result"
    }
   ],
   "source": [
    "#Let us verify first that appointment and scheduled  day columns are the same\n",
    "\n",
    "sum(df[\"appointment_day\"] == df[\"scheduled_day\"])"
   ]
  },
  {
   "cell_type": "markdown",
   "metadata": {},
   "source": [
    "From the above information, it appears that the scheduled day and appointment days are different and it makes sense to tag the scheduled day as the day when the appointment was given. Thus in a future feature engineering process, this information could prove useful."
   ]
  },
  {
   "cell_type": "code",
   "execution_count": 185,
   "metadata": {},
   "outputs": [],
   "source": [
    "#Let us drop duplicates while keeping the last row for each duplicate sample.\n",
    "\n",
    "df.drop_duplicates(keep = \"last\", inplace = True)"
   ]
  },
  {
   "cell_type": "code",
   "execution_count": 186,
   "metadata": {},
   "outputs": [
    {
     "data": {
      "text/plain": [
       "(106305, 13)"
      ]
     },
     "execution_count": 186,
     "metadata": {},
     "output_type": "execute_result"
    }
   ],
   "source": [
    "df.shape"
   ]
  },
  {
   "cell_type": "code",
   "execution_count": 187,
   "metadata": {
    "scrolled": true
   },
   "outputs": [
    {
     "name": "stdout",
     "output_type": "stream",
     "text": [
      "<class 'pandas.core.frame.DataFrame'>\n",
      "Int64Index: 106305 entries, 3 to 110526\n",
      "Data columns (total 13 columns):\n",
      "patient_id         106305 non-null float64\n",
      "gender             106305 non-null object\n",
      "scheduled_day      106305 non-null object\n",
      "appointment_day    106305 non-null object\n",
      "age                106305 non-null int64\n",
      "neighbourhood      106305 non-null object\n",
      "scholarship        106305 non-null int64\n",
      "hypertension       106305 non-null int64\n",
      "diabetes           106305 non-null int64\n",
      "alcoholism         106305 non-null int64\n",
      "handicap           106305 non-null int64\n",
      "sms_received       106305 non-null int64\n",
      "no_show            106305 non-null object\n",
      "dtypes: float64(1), int64(7), object(5)\n",
      "memory usage: 11.4+ MB\n"
     ]
    }
   ],
   "source": [
    "#Check the information concerning data types of each columns and general infromative and desctriptive information\n",
    "df.info()"
   ]
  },
  {
   "cell_type": "code",
   "execution_count": 188,
   "metadata": {},
   "outputs": [],
   "source": [
    "#Convert patient_id column to object\n",
    "\n",
    "df[\"patient_id\"] =  df[\"patient_id\"].astype(int).astype(str)"
   ]
  },
  {
   "cell_type": "code",
   "execution_count": 189,
   "metadata": {},
   "outputs": [
    {
     "data": {
      "text/html": [
       "<div>\n",
       "<style scoped>\n",
       "    .dataframe tbody tr th:only-of-type {\n",
       "        vertical-align: middle;\n",
       "    }\n",
       "\n",
       "    .dataframe tbody tr th {\n",
       "        vertical-align: top;\n",
       "    }\n",
       "\n",
       "    .dataframe thead th {\n",
       "        text-align: right;\n",
       "    }\n",
       "</style>\n",
       "<table border=\"1\" class=\"dataframe\">\n",
       "  <thead>\n",
       "    <tr style=\"text-align: right;\">\n",
       "      <th></th>\n",
       "      <th>age</th>\n",
       "      <th>scholarship</th>\n",
       "      <th>hypertension</th>\n",
       "      <th>diabetes</th>\n",
       "      <th>alcoholism</th>\n",
       "      <th>handicap</th>\n",
       "      <th>sms_received</th>\n",
       "    </tr>\n",
       "  </thead>\n",
       "  <tbody>\n",
       "    <tr>\n",
       "      <th>count</th>\n",
       "      <td>106305.000000</td>\n",
       "      <td>106305.000000</td>\n",
       "      <td>106305.000000</td>\n",
       "      <td>106305.000000</td>\n",
       "      <td>106305.000000</td>\n",
       "      <td>106305.000000</td>\n",
       "      <td>106305.000000</td>\n",
       "    </tr>\n",
       "    <tr>\n",
       "      <th>mean</th>\n",
       "      <td>37.116128</td>\n",
       "      <td>0.098067</td>\n",
       "      <td>0.198946</td>\n",
       "      <td>0.072744</td>\n",
       "      <td>0.027986</td>\n",
       "      <td>0.021890</td>\n",
       "      <td>0.333700</td>\n",
       "    </tr>\n",
       "    <tr>\n",
       "      <th>std</th>\n",
       "      <td>23.173480</td>\n",
       "      <td>0.297406</td>\n",
       "      <td>0.399210</td>\n",
       "      <td>0.259716</td>\n",
       "      <td>0.164932</td>\n",
       "      <td>0.160314</td>\n",
       "      <td>0.471536</td>\n",
       "    </tr>\n",
       "    <tr>\n",
       "      <th>min</th>\n",
       "      <td>-1.000000</td>\n",
       "      <td>0.000000</td>\n",
       "      <td>0.000000</td>\n",
       "      <td>0.000000</td>\n",
       "      <td>0.000000</td>\n",
       "      <td>0.000000</td>\n",
       "      <td>0.000000</td>\n",
       "    </tr>\n",
       "    <tr>\n",
       "      <th>25%</th>\n",
       "      <td>18.000000</td>\n",
       "      <td>0.000000</td>\n",
       "      <td>0.000000</td>\n",
       "      <td>0.000000</td>\n",
       "      <td>0.000000</td>\n",
       "      <td>0.000000</td>\n",
       "      <td>0.000000</td>\n",
       "    </tr>\n",
       "    <tr>\n",
       "      <th>50%</th>\n",
       "      <td>37.000000</td>\n",
       "      <td>0.000000</td>\n",
       "      <td>0.000000</td>\n",
       "      <td>0.000000</td>\n",
       "      <td>0.000000</td>\n",
       "      <td>0.000000</td>\n",
       "      <td>0.000000</td>\n",
       "    </tr>\n",
       "    <tr>\n",
       "      <th>75%</th>\n",
       "      <td>56.000000</td>\n",
       "      <td>0.000000</td>\n",
       "      <td>0.000000</td>\n",
       "      <td>0.000000</td>\n",
       "      <td>0.000000</td>\n",
       "      <td>0.000000</td>\n",
       "      <td>1.000000</td>\n",
       "    </tr>\n",
       "    <tr>\n",
       "      <th>max</th>\n",
       "      <td>115.000000</td>\n",
       "      <td>1.000000</td>\n",
       "      <td>1.000000</td>\n",
       "      <td>1.000000</td>\n",
       "      <td>1.000000</td>\n",
       "      <td>4.000000</td>\n",
       "      <td>1.000000</td>\n",
       "    </tr>\n",
       "  </tbody>\n",
       "</table>\n",
       "</div>"
      ],
      "text/plain": [
       "                 age    scholarship   hypertension       diabetes  \\\n",
       "count  106305.000000  106305.000000  106305.000000  106305.000000   \n",
       "mean       37.116128       0.098067       0.198946       0.072744   \n",
       "std        23.173480       0.297406       0.399210       0.259716   \n",
       "min        -1.000000       0.000000       0.000000       0.000000   \n",
       "25%        18.000000       0.000000       0.000000       0.000000   \n",
       "50%        37.000000       0.000000       0.000000       0.000000   \n",
       "75%        56.000000       0.000000       0.000000       0.000000   \n",
       "max       115.000000       1.000000       1.000000       1.000000   \n",
       "\n",
       "          alcoholism       handicap   sms_received  \n",
       "count  106305.000000  106305.000000  106305.000000  \n",
       "mean        0.027986       0.021890       0.333700  \n",
       "std         0.164932       0.160314       0.471536  \n",
       "min         0.000000       0.000000       0.000000  \n",
       "25%         0.000000       0.000000       0.000000  \n",
       "50%         0.000000       0.000000       0.000000  \n",
       "75%         0.000000       0.000000       1.000000  \n",
       "max         1.000000       4.000000       1.000000  "
      ]
     },
     "execution_count": 189,
     "metadata": {},
     "output_type": "execute_result"
    }
   ],
   "source": [
    "df.describe()"
   ]
  },
  {
   "cell_type": "code",
   "execution_count": 190,
   "metadata": {
    "scrolled": false
   },
   "outputs": [
    {
     "data": {
      "text/html": [
       "<div>\n",
       "<style scoped>\n",
       "    .dataframe tbody tr th:only-of-type {\n",
       "        vertical-align: middle;\n",
       "    }\n",
       "\n",
       "    .dataframe tbody tr th {\n",
       "        vertical-align: top;\n",
       "    }\n",
       "\n",
       "    .dataframe thead th {\n",
       "        text-align: right;\n",
       "    }\n",
       "</style>\n",
       "<table border=\"1\" class=\"dataframe\">\n",
       "  <thead>\n",
       "    <tr style=\"text-align: right;\">\n",
       "      <th></th>\n",
       "      <th>patient_id</th>\n",
       "      <th>gender</th>\n",
       "      <th>scheduled_day</th>\n",
       "      <th>appointment_day</th>\n",
       "      <th>neighbourhood</th>\n",
       "      <th>no_show</th>\n",
       "    </tr>\n",
       "  </thead>\n",
       "  <tbody>\n",
       "    <tr>\n",
       "      <th>count</th>\n",
       "      <td>106305</td>\n",
       "      <td>106305</td>\n",
       "      <td>106305</td>\n",
       "      <td>106305</td>\n",
       "      <td>106305</td>\n",
       "      <td>106305</td>\n",
       "    </tr>\n",
       "    <tr>\n",
       "      <th>unique</th>\n",
       "      <td>62299</td>\n",
       "      <td>2</td>\n",
       "      <td>111</td>\n",
       "      <td>27</td>\n",
       "      <td>81</td>\n",
       "      <td>2</td>\n",
       "    </tr>\n",
       "    <tr>\n",
       "      <th>top</th>\n",
       "      <td>1484143378533</td>\n",
       "      <td>F</td>\n",
       "      <td>2016-05-03</td>\n",
       "      <td>2016-06-06</td>\n",
       "      <td>JARDIM CAMBURI</td>\n",
       "      <td>No</td>\n",
       "    </tr>\n",
       "    <tr>\n",
       "      <th>freq</th>\n",
       "      <td>35</td>\n",
       "      <td>69588</td>\n",
       "      <td>4086</td>\n",
       "      <td>4545</td>\n",
       "      <td>7413</td>\n",
       "      <td>84615</td>\n",
       "    </tr>\n",
       "  </tbody>\n",
       "</table>\n",
       "</div>"
      ],
      "text/plain": [
       "           patient_id  gender scheduled_day appointment_day   neighbourhood  \\\n",
       "count          106305  106305        106305          106305          106305   \n",
       "unique          62299       2           111              27              81   \n",
       "top     1484143378533       F    2016-05-03      2016-06-06  JARDIM CAMBURI   \n",
       "freq               35   69588          4086            4545            7413   \n",
       "\n",
       "       no_show  \n",
       "count   106305  \n",
       "unique       2  \n",
       "top         No  \n",
       "freq     84615  "
      ]
     },
     "execution_count": 190,
     "metadata": {},
     "output_type": "execute_result"
    }
   ],
   "source": [
    "df.describe(include = \"object\")"
   ]
  },
  {
   "cell_type": "markdown",
   "metadata": {},
   "source": [
    "From the description of the dataset. some notable features would be:\n",
    "* The predence of -1 as the minimum age, which has to be an errror.\n",
    "* The handicap column having 4 as the maximum number where we were expecting a binary 0 and 1 value entry\n",
    "* There is only 62299 unique patients(id).\n",
    "* There are more females than males in the dataset.\n",
    "* More people generally showed up than did not."
   ]
  },
  {
   "cell_type": "code",
   "execution_count": 191,
   "metadata": {
    "scrolled": true
   },
   "outputs": [
    {
     "data": {
      "text/plain": [
       "0    104186\n",
       "1      1928\n",
       "2       177\n",
       "3        11\n",
       "4         3\n",
       "Name: handicap, dtype: int64"
      ]
     },
     "execution_count": 191,
     "metadata": {},
     "output_type": "execute_result"
    }
   ],
   "source": [
    "#Check df for handicap column\n",
    "#It contains several values apart from anticipated 0 and 1\n",
    "\n",
    "df[\"handicap\"].value_counts()"
   ]
  },
  {
   "cell_type": "markdown",
   "metadata": {},
   "source": [
    "The value counts of the handicapped column seen above shows that the recording of the handicap column is different from the conventional 0(No) and 1(Yes). \n",
    "This could also be a mistake in data entry. Only more information can explain further."
   ]
  },
  {
   "cell_type": "code",
   "execution_count": 192,
   "metadata": {},
   "outputs": [
    {
     "data": {
      "image/png": "[encoded data removed]",
      "text/plain": [
       "<matplotlib.figure.Figure at 0x7f5430a254a8>"
      ]
     },
     "metadata": {
      "needs_background": "light"
     },
     "output_type": "display_data"
    }
   ],
   "source": [
    "#Check the distribution of the features of the dataframe\n",
    "\n",
    "df.hist(figsize = (8, 8));"
   ]
  },
  {
   "cell_type": "code",
   "execution_count": 193,
   "metadata": {
    "scrolled": true
   },
   "outputs": [],
   "source": [
    "#Drop data values of age equal to -1, which is an invalid entry for age.\n",
    "\n",
    "row_drop = df[df[\"age\"] == -1]\n",
    "df.drop(list(row_drop.index), inplace = True)"
   ]
  },
  {
   "cell_type": "code",
   "execution_count": 195,
   "metadata": {},
   "outputs": [
    {
     "data": {
      "text/plain": [
       "0    3448\n",
       "1    2211\n",
       "2    1579\n",
       "3    1467\n",
       "4    1265\n",
       "Name: age, dtype: int64"
      ]
     },
     "execution_count": 195,
     "metadata": {},
     "output_type": "execute_result"
    }
   ],
   "source": [
    "#Print value counts of age column and sort by the index\n",
    "#i.e. age\n",
    "df.age.value_counts().sort_index().head()"
   ]
  },
  {
   "cell_type": "markdown",
   "metadata": {},
   "source": [
    "<a id='eda'></a>\n",
    "## Exploratory Data Analysis\n",
    "\n",
    "### Question(s) for Analysis\n",
    "\n",
    ">- Do more male show for appointments than female appointments\n",
    ">- Which age turn up the most and which age have the least turn up.\n",
    ">- What day of the week produces the highest appointment (Weekend or weekdays?)\n",
    ">- Does scholarship determines if an observed patient would go for another appointment. Also what percentage of male or female received scholarship and did it affect the gender in returning for an appointment.\n",
    ">- Which neighbourhood receives the most scholarship and which neighbourhood comes back most for reappointments.\n",
    ">- General type of disease common for those that returned\n",
    ">- Do sms recepient have associated possibility of coming back for another appointment\n",
    "\n",
    "\n",
    "### Research Question 1 (Do More Male show up for appointments than females?)"
   ]
  },
  {
   "cell_type": "markdown",
   "metadata": {},
   "source": [
    "This is to determine whether more male or more females report for appointment"
   ]
  },
  {
   "cell_type": "code",
   "execution_count": 196,
   "metadata": {},
   "outputs": [
    {
     "data": {
      "text/html": [
       "<div>\n",
       "<style scoped>\n",
       "    .dataframe tbody tr th:only-of-type {\n",
       "        vertical-align: middle;\n",
       "    }\n",
       "\n",
       "    .dataframe tbody tr th {\n",
       "        vertical-align: top;\n",
       "    }\n",
       "\n",
       "    .dataframe thead th {\n",
       "        text-align: right;\n",
       "    }\n",
       "</style>\n",
       "<table border=\"1\" class=\"dataframe\">\n",
       "  <thead>\n",
       "    <tr style=\"text-align: right;\">\n",
       "      <th></th>\n",
       "      <th>patient_id</th>\n",
       "      <th>gender</th>\n",
       "      <th>scheduled_day</th>\n",
       "      <th>appointment_day</th>\n",
       "      <th>age</th>\n",
       "      <th>neighbourhood</th>\n",
       "      <th>scholarship</th>\n",
       "      <th>hypertension</th>\n",
       "      <th>diabetes</th>\n",
       "      <th>alcoholism</th>\n",
       "      <th>handicap</th>\n",
       "      <th>sms_received</th>\n",
       "      <th>no_show</th>\n",
       "    </tr>\n",
       "  </thead>\n",
       "  <tbody>\n",
       "    <tr>\n",
       "      <th>4</th>\n",
       "      <td>8841186448183</td>\n",
       "      <td>F</td>\n",
       "      <td>2016-04-29</td>\n",
       "      <td>2016-04-29</td>\n",
       "      <td>56</td>\n",
       "      <td>JARDIM DA PENHA</td>\n",
       "      <td>0</td>\n",
       "      <td>1</td>\n",
       "      <td>1</td>\n",
       "      <td>0</td>\n",
       "      <td>0</td>\n",
       "      <td>0</td>\n",
       "      <td>No</td>\n",
       "    </tr>\n",
       "    <tr>\n",
       "      <th>8</th>\n",
       "      <td>56394729949972</td>\n",
       "      <td>F</td>\n",
       "      <td>2016-04-29</td>\n",
       "      <td>2016-04-29</td>\n",
       "      <td>21</td>\n",
       "      <td>ANDORINHAS</td>\n",
       "      <td>0</td>\n",
       "      <td>0</td>\n",
       "      <td>0</td>\n",
       "      <td>0</td>\n",
       "      <td>0</td>\n",
       "      <td>0</td>\n",
       "      <td>No</td>\n",
       "    </tr>\n",
       "    <tr>\n",
       "      <th>9</th>\n",
       "      <td>78124564369297</td>\n",
       "      <td>F</td>\n",
       "      <td>2016-04-27</td>\n",
       "      <td>2016-04-29</td>\n",
       "      <td>19</td>\n",
       "      <td>CONQUISTA</td>\n",
       "      <td>0</td>\n",
       "      <td>0</td>\n",
       "      <td>0</td>\n",
       "      <td>0</td>\n",
       "      <td>0</td>\n",
       "      <td>0</td>\n",
       "      <td>No</td>\n",
       "    </tr>\n",
       "    <tr>\n",
       "      <th>10</th>\n",
       "      <td>734536231958495</td>\n",
       "      <td>F</td>\n",
       "      <td>2016-04-27</td>\n",
       "      <td>2016-04-29</td>\n",
       "      <td>30</td>\n",
       "      <td>NOVA PALESTINA</td>\n",
       "      <td>0</td>\n",
       "      <td>0</td>\n",
       "      <td>0</td>\n",
       "      <td>0</td>\n",
       "      <td>0</td>\n",
       "      <td>0</td>\n",
       "      <td>No</td>\n",
       "    </tr>\n",
       "    <tr>\n",
       "      <th>12</th>\n",
       "      <td>566654781423437</td>\n",
       "      <td>F</td>\n",
       "      <td>2016-04-28</td>\n",
       "      <td>2016-04-29</td>\n",
       "      <td>22</td>\n",
       "      <td>NOVA PALESTINA</td>\n",
       "      <td>1</td>\n",
       "      <td>0</td>\n",
       "      <td>0</td>\n",
       "      <td>0</td>\n",
       "      <td>0</td>\n",
       "      <td>0</td>\n",
       "      <td>No</td>\n",
       "    </tr>\n",
       "  </tbody>\n",
       "</table>\n",
       "</div>"
      ],
      "text/plain": [
       "         patient_id gender scheduled_day appointment_day  age  \\\n",
       "4     8841186448183      F    2016-04-29      2016-04-29   56   \n",
       "8    56394729949972      F    2016-04-29      2016-04-29   21   \n",
       "9    78124564369297      F    2016-04-27      2016-04-29   19   \n",
       "10  734536231958495      F    2016-04-27      2016-04-29   30   \n",
       "12  566654781423437      F    2016-04-28      2016-04-29   22   \n",
       "\n",
       "      neighbourhood  scholarship  hypertension  diabetes  alcoholism  \\\n",
       "4   JARDIM DA PENHA            0             1         1           0   \n",
       "8        ANDORINHAS            0             0         0           0   \n",
       "9         CONQUISTA            0             0         0           0   \n",
       "10   NOVA PALESTINA            0             0         0           0   \n",
       "12   NOVA PALESTINA            1             0         0           0   \n",
       "\n",
       "    handicap  sms_received no_show  \n",
       "4          0             0      No  \n",
       "8          0             0      No  \n",
       "9          0             0      No  \n",
       "10         0             0      No  \n",
       "12         0             0      No  "
      ]
     },
     "execution_count": 196,
     "metadata": {},
     "output_type": "execute_result"
    }
   ],
   "source": [
    "#Create a df for people that showed up for their appointments\n",
    "\n",
    "show_df = df.drop_duplicates([\"patient_id\"], keep = \"last\").query('no_show == \"No\"')\n",
    "show_df.head()"
   ]
  },
  {
   "cell_type": "code",
   "execution_count": 197,
   "metadata": {
    "scrolled": false
   },
   "outputs": [
    {
     "name": "stdout",
     "output_type": "stream",
     "text": [
      "The number of male and female that go for appointments, \n",
      " F    32216\n",
      "M    17861\n",
      "Name: gender, dtype: int64\n"
     ]
    },
    {
     "data": {
      "image/png": "[encoded data removed]",
      "text/plain": [
       "<matplotlib.figure.Figure at 0x7f54308a7438>"
      ]
     },
     "metadata": {
      "needs_background": "light"
     },
     "output_type": "display_data"
    }
   ],
   "source": [
    "print(\"The number of male and female that go for appointments, \\n\", show_df.drop_duplicates(subset = [\"patient_id\"])[\"gender\"].value_counts())\n",
    "\n",
    "show_df.drop_duplicates(subset = [\"patient_id\"])[\"gender\"].value_counts().plot(kind = \"bar\", rot = 0)\n",
    "plt.xlabel(\"Gender\", fontsize = 10, weight = \"bold\")\n",
    "plt.ylabel(\"count of appointments\", fontsize = 12, weight = \"bold\")\n",
    "plt.title(\"Bar plot of male and female that go for appointments\");"
   ]
  },
  {
   "cell_type": "markdown",
   "metadata": {},
   "source": [
    "**Insights:** Generally more female go for appointments than male. However to obtain a more accurate information, let us plot the proportion of male and proportion of female instead."
   ]
  },
  {
   "cell_type": "code",
   "execution_count": 202,
   "metadata": {},
   "outputs": [
    {
     "data": {
      "image/png": "[encoded data removed]",
      "text/plain": [
       "<matplotlib.figure.Figure at 0x7f542db868d0>"
      ]
     },
     "metadata": {
      "needs_background": "light"
     },
     "output_type": "display_data"
    }
   ],
   "source": [
    "#Groupby the gender column and subset by no_show column\n",
    "\n",
    "patient_df = df.drop_duplicates(subset = [\"patient_id\"])  #Obtain df for only each patient\n",
    "\n",
    "patient_df.groupby(\"gender\")[\"no_show\"].value_counts(normalize = True).unstack(\"gender\").plot(kind = \"bar\", rot = 0)\n",
    "plt.title(\"Plot of proportion of gender show up or not\")\n",
    "plt.xlabel(\"No_show\", fontsize = 12, weight = \"bold\")\n",
    "plt.ylabel(\"Proportion\", fontsize = \"12\", weight = \"bold\");"
   ]
  },
  {
   "cell_type": "markdown",
   "metadata": {},
   "source": [
    "- Interestingly, by proportion of individual genders, there is not so much difference on the gender that shows more turn up for appointments.\n",
    "- The initial difference in the gender that go for appointments is because females are more in the record(40,045) (i.e. were appointees) than males(22,253). Females almost doubled the number of males in the record."
   ]
  },
  {
   "cell_type": "markdown",
   "metadata": {},
   "source": [
    "### Research Question 1b:  (Does scholarship determines if an observed patient would go for another appointment. Also what percentage of male or female received scholarship and did it affect the gender in returning for an appointment?)\n",
    "\n",
    "To further explore the data and possible relationship between the gender and the scholarship received"
   ]
  },
  {
   "cell_type": "code",
   "execution_count": 203,
   "metadata": {},
   "outputs": [],
   "source": [
    "#Obtain df for those that received scholarship\n",
    "scholarship_df = df.query('scholarship == 1')"
   ]
  },
  {
   "cell_type": "code",
   "execution_count": 204,
   "metadata": {
    "scrolled": false
   },
   "outputs": [
    {
     "data": {
      "image/png": "[encoded data removed]",
      "text/plain": [
       "<matplotlib.figure.Figure at 0x7f542daeca20>"
      ]
     },
     "metadata": {},
     "output_type": "display_data"
    }
   ],
   "source": [
    "#Make plot of the gender and count of scholarships received by each gender\n",
    "\n",
    "scholarship_df.drop_duplicates(subset = [\"patient_id\"])[\"gender\"].value_counts().plot(kind = \"pie\") #Drop duplicates to obtain just one person per record\n",
    "plt.title(\"Pie chart depicting the count of \\n scholarships received by each gender\");"
   ]
  },
  {
   "cell_type": "code",
   "execution_count": 206,
   "metadata": {
    "scrolled": true
   },
   "outputs": [
    {
     "data": {
      "image/png": "[encoded data removed]",
      "text/plain": [
       "<matplotlib.figure.Figure at 0x7f542da2fc50>"
      ]
     },
     "metadata": {
      "needs_background": "light"
     },
     "output_type": "display_data"
    }
   ],
   "source": [
    "patient_df.groupby(\"gender\")[\"scholarship\"].value_counts(normalize = True).unstack(\"gender\").plot(kind = \"bar\", rot = 0)\n",
    "plt.title(\"Plot of scholarship count by gender\")\n",
    "plt.xlabel(\"Scholarship\", fontsize = 12, weight = \"bold\")\n",
    "plt.ylabel(\"proportion of patients\", fontsize = 12, weight = \"bold\");"
   ]
  },
  {
   "cell_type": "markdown",
   "metadata": {},
   "source": [
    "By proportion, more females(blue bar) get more scholarships (scholarship = 1) than male conterpart, while more male(orange bar) are without scolarships (scholarship = 0) compared to their female conterparts by proportion"
   ]
  },
  {
   "cell_type": "code",
   "execution_count": null,
   "metadata": {},
   "outputs": [],
   "source": []
  },
  {
   "cell_type": "markdown",
   "metadata": {},
   "source": [
    "### Question 1c: How does scholarship affect the turn out of patients generally towards appointment?"
   ]
  },
  {
   "cell_type": "code",
   "execution_count": 207,
   "metadata": {},
   "outputs": [
    {
     "data": {
      "text/html": [
       "<div>\n",
       "<style scoped>\n",
       "    .dataframe tbody tr th:only-of-type {\n",
       "        vertical-align: middle;\n",
       "    }\n",
       "\n",
       "    .dataframe tbody tr th {\n",
       "        vertical-align: top;\n",
       "    }\n",
       "\n",
       "    .dataframe thead th {\n",
       "        text-align: right;\n",
       "    }\n",
       "</style>\n",
       "<table border=\"1\" class=\"dataframe\">\n",
       "  <thead>\n",
       "    <tr style=\"text-align: right;\">\n",
       "      <th>scholarship</th>\n",
       "      <th>0</th>\n",
       "      <th>1</th>\n",
       "    </tr>\n",
       "    <tr>\n",
       "      <th>no_show</th>\n",
       "      <th></th>\n",
       "      <th></th>\n",
       "    </tr>\n",
       "  </thead>\n",
       "  <tbody>\n",
       "    <tr>\n",
       "      <th>No</th>\n",
       "      <td>0.806831</td>\n",
       "      <td>0.774534</td>\n",
       "    </tr>\n",
       "    <tr>\n",
       "      <th>Yes</th>\n",
       "      <td>0.193169</td>\n",
       "      <td>0.225466</td>\n",
       "    </tr>\n",
       "  </tbody>\n",
       "</table>\n",
       "</div>"
      ],
      "text/plain": [
       "scholarship         0         1\n",
       "no_show                        \n",
       "No           0.806831  0.774534\n",
       "Yes          0.193169  0.225466"
      ]
     },
     "execution_count": 207,
     "metadata": {},
     "output_type": "execute_result"
    }
   ],
   "source": [
    "#To see the turnout of people who receive scholarships to those that don't receive schoalrship\n",
    "df_per_patient = df.drop_duplicates([\"patient_id\"], keep = \"last\") #A general df for each individual patient_id\n",
    "\n",
    "#define function for counting the show and no show by any category(x)\n",
    "def show_grouper(dataframe, category):\n",
    "    return dataframe.groupby(category)[\"no_show\"].value_counts(normalize = True)\n",
    "\n",
    "scholarship_turnout = show_grouper(df_per_patient, \"scholarship\") \n",
    "\n",
    "scholarship_turnout = scholarship_turnout.unstack(\"scholarship\") #unstasck for making a table wider rather than longer\n",
    "scholarship_turnout"
   ]
  },
  {
   "cell_type": "code",
   "execution_count": 209,
   "metadata": {},
   "outputs": [
    {
     "data": {
      "image/png": "[encoded data removed]",
      "text/plain": [
       "<matplotlib.figure.Figure at 0x7f542d991be0>"
      ]
     },
     "metadata": {
      "needs_background": "light"
     },
     "output_type": "display_data"
    }
   ],
   "source": [
    "scholarship_turnout.plot(kind = \"bar\", rot = 0)\n",
    "plt.title(\"Plot comapring the proportion of scholars \\n and proportion of non-scholars turn out\")\n",
    "plt.xlabel(\"Show/no_show\", fontsize = 12, weight = \"bold\")\n",
    "plt.ylabel(\"Proportion of scholars/ \\nnon_scholars\", fontsize = 12, weight = \"bold\");"
   ]
  },
  {
   "cell_type": "markdown",
   "metadata": {},
   "source": [
    "* Scholarship turnout proportion describes the proportion of scholars and non scholars that showed up or did not show up. \n",
    "* I.e. X propoprtion of scholars (out of total scholars) showed up (or not showed up) for appointments (denoted by the blue bars) and Y proportion of non-scholars (out of total non-scholars) showed up or did not show up for the appointment (denoted by orange bars)"
   ]
  },
  {
   "cell_type": "code",
   "execution_count": 210,
   "metadata": {},
   "outputs": [
    {
     "name": "stdout",
     "output_type": "stream",
     "text": [
      "The percentage of people that received scholarship and came for the appointment (out of total scholars) is: 77.45%\n",
      "The percentage of people that DID NOT receive scholarship but came for the appointment (out of total non-scholars) is: 80.68%\n"
     ]
    }
   ],
   "source": [
    "#For better translation (using percentage)\n",
    "sch_prop = scholarship_turnout.iloc[0, 1] #proportion of those who received sch and turned out\n",
    "no_sch_prop = scholarship_turnout.iloc[0, 0] #proportion of those who didn't receive and turned out\n",
    "\n",
    "print(\"The percentage of people that received scholarship and came for the appointment (out of total scholars) is: {:.2f}%\".format(sch_prop * 100))\n",
    "print(\"The percentage of people that DID NOT receive scholarship but came for the appointment (out of total non-scholars) is: {:.2f}%\".format(no_sch_prop * 100))"
   ]
  },
  {
   "cell_type": "markdown",
   "metadata": {},
   "source": [
    "Although more Females are awarded more schalrships than male. We see that the scholarship is not the real driving force for those that came back for an appointment.\n",
    "The proportion of those who did not recieve scholarship but came for an appointment is more than those who have a scholarship.\n",
    "We can however explore the case further to determine which gender takes more serious their scholarship."
   ]
  },
  {
   "cell_type": "markdown",
   "metadata": {},
   "source": [
    "### Question 1d: Which gender takes the scholarship more seriously"
   ]
  },
  {
   "cell_type": "code",
   "execution_count": 211,
   "metadata": {},
   "outputs": [],
   "source": [
    "sch_show = show_df.query('scholarship == 1') #df of those that show up and have a scholarship"
   ]
  },
  {
   "cell_type": "code",
   "execution_count": 212,
   "metadata": {
    "scrolled": false
   },
   "outputs": [
    {
     "data": {
      "image/png": "[encoded data removed]",
      "text/plain": [
       "<matplotlib.figure.Figure at 0x7f542d962fd0>"
      ]
     },
     "metadata": {
      "needs_background": "light"
     },
     "output_type": "display_data"
    }
   ],
   "source": [
    "sch_show.groupby(\"gender\").patient_id.count().plot(kind = \"bar\", rot = 0)\n",
    "plt.title(\"Count of genders who have scholarships and go for appointments\")\n",
    "plt.xlabel(\"Gender\", fontsize = 12, weight = \"bold\")\n",
    "plt.ylabel(\"Count\", fontsize = 12, weight = \"bold\");"
   ]
  },
  {
   "cell_type": "markdown",
   "metadata": {},
   "source": [
    "By raw count, female scholarship beneficiaries generally show up than male beneficiaries. However, observing only raw counts can be mislaeding as the original dataset does not have balance of both genders in terms of data and value entry"
   ]
  },
  {
   "cell_type": "code",
   "execution_count": 213,
   "metadata": {},
   "outputs": [
    {
     "name": "stdout",
     "output_type": "stream",
     "text": [
      "The proportion of scholars that go for appointments categorized by gender is given below:\n"
     ]
    },
    {
     "data": {
      "text/plain": [
       "gender\n",
       "F    0.773240\n",
       "M    0.780129\n",
       "Name: No, dtype: float64"
      ]
     },
     "execution_count": 213,
     "metadata": {},
     "output_type": "execute_result"
    }
   ],
   "source": [
    "#To examine the data by proportion\n",
    "sch_df = df_per_patient.query('scholarship == 1') #df of those that show up and have a scholarship\n",
    "sch_df_gender = show_grouper(sch_df, \"gender\").unstack()\n",
    "\n",
    "print(\"The proportion of scholars that go for appointments categorized by gender is given below:\")\n",
    "sch_df_gender.loc[:, \"No\"]"
   ]
  },
  {
   "cell_type": "markdown",
   "metadata": {},
   "source": [
    "From the resulting series above, it appears that there is not much difference between the proportion of male and female that go for the appointment and have a scholarship. The male do have a slightly better approach and slightly higher proportion especially their proportion in the data entry."
   ]
  },
  {
   "cell_type": "markdown",
   "metadata": {},
   "source": [
    "### Research Question 2  (Which Age has the most and least turnout!)"
   ]
  },
  {
   "cell_type": "code",
   "execution_count": 214,
   "metadata": {
    "scrolled": false
   },
   "outputs": [
    {
     "data": {
      "image/png": "[encoded data removed]",
      "text/plain": [
       "<matplotlib.figure.Figure at 0x7f542da276d8>"
      ]
     },
     "metadata": {
      "needs_background": "light"
     },
     "output_type": "display_data"
    }
   ],
   "source": [
    "show_df[\"age\"].hist(bins = 25, figsize = (30, 15))\n",
    "plt.xticks(np.arange(0, 101, 4), rotation = 0, fontsize = 20)\n",
    "plt.yticks(fontsize = 20);"
   ]
  },
  {
   "cell_type": "code",
   "execution_count": 215,
   "metadata": {
    "scrolled": true
   },
   "outputs": [
    {
     "data": {
      "text/plain": [
       "count    50077.000000\n",
       "mean        37.474250\n",
       "std         23.828613\n",
       "min          0.000000\n",
       "25%         17.000000\n",
       "50%         38.000000\n",
       "75%         57.000000\n",
       "max        115.000000\n",
       "Name: age, dtype: float64"
      ]
     },
     "execution_count": 215,
     "metadata": {},
     "output_type": "execute_result"
    }
   ],
   "source": [
    "show_df[\"age\"].describe()"
   ]
  },
  {
   "cell_type": "markdown",
   "metadata": {},
   "source": [
    "* The average age of patients that return for appointments is 37 years old with 0 year old (children) having more returning for appointments.\n",
    "* The highest age is 115 year old, while most of the ages are between 17 to 57 years old."
   ]
  },
  {
   "cell_type": "markdown",
   "metadata": {},
   "source": [
    "### Research Question 3  (The features of Hypertension patients.)"
   ]
  },
  {
   "cell_type": "code",
   "execution_count": 216,
   "metadata": {},
   "outputs": [],
   "source": [
    "#Create hyp_df\n",
    "hypertension_df = df.query(\"hypertension == 1\")"
   ]
  },
  {
   "cell_type": "code",
   "execution_count": 217,
   "metadata": {
    "scrolled": false
   },
   "outputs": [
    {
     "data": {
      "text/html": [
       "<div>\n",
       "<style scoped>\n",
       "    .dataframe tbody tr th:only-of-type {\n",
       "        vertical-align: middle;\n",
       "    }\n",
       "\n",
       "    .dataframe tbody tr th {\n",
       "        vertical-align: top;\n",
       "    }\n",
       "\n",
       "    .dataframe thead th {\n",
       "        text-align: right;\n",
       "    }\n",
       "</style>\n",
       "<table border=\"1\" class=\"dataframe\">\n",
       "  <thead>\n",
       "    <tr style=\"text-align: right;\">\n",
       "      <th></th>\n",
       "      <th>age</th>\n",
       "      <th>scholarship</th>\n",
       "      <th>hypertension</th>\n",
       "      <th>diabetes</th>\n",
       "      <th>alcoholism</th>\n",
       "      <th>handicap</th>\n",
       "      <th>sms_received</th>\n",
       "    </tr>\n",
       "  </thead>\n",
       "  <tbody>\n",
       "    <tr>\n",
       "      <th>count</th>\n",
       "      <td>21149.000000</td>\n",
       "      <td>21149.000000</td>\n",
       "      <td>21149.0</td>\n",
       "      <td>21149.000000</td>\n",
       "      <td>21149.000000</td>\n",
       "      <td>21149.000000</td>\n",
       "      <td>21149.000000</td>\n",
       "    </tr>\n",
       "    <tr>\n",
       "      <th>mean</th>\n",
       "      <td>60.670717</td>\n",
       "      <td>0.084496</td>\n",
       "      <td>1.0</td>\n",
       "      <td>0.298832</td>\n",
       "      <td>0.056598</td>\n",
       "      <td>0.048324</td>\n",
       "      <td>0.324743</td>\n",
       "    </tr>\n",
       "    <tr>\n",
       "      <th>std</th>\n",
       "      <td>13.883610</td>\n",
       "      <td>0.278136</td>\n",
       "      <td>0.0</td>\n",
       "      <td>0.457757</td>\n",
       "      <td>0.231079</td>\n",
       "      <td>0.232035</td>\n",
       "      <td>0.468290</td>\n",
       "    </tr>\n",
       "    <tr>\n",
       "      <th>min</th>\n",
       "      <td>4.000000</td>\n",
       "      <td>0.000000</td>\n",
       "      <td>1.0</td>\n",
       "      <td>0.000000</td>\n",
       "      <td>0.000000</td>\n",
       "      <td>0.000000</td>\n",
       "      <td>0.000000</td>\n",
       "    </tr>\n",
       "    <tr>\n",
       "      <th>25%</th>\n",
       "      <td>52.000000</td>\n",
       "      <td>0.000000</td>\n",
       "      <td>1.0</td>\n",
       "      <td>0.000000</td>\n",
       "      <td>0.000000</td>\n",
       "      <td>0.000000</td>\n",
       "      <td>0.000000</td>\n",
       "    </tr>\n",
       "    <tr>\n",
       "      <th>50%</th>\n",
       "      <td>61.000000</td>\n",
       "      <td>0.000000</td>\n",
       "      <td>1.0</td>\n",
       "      <td>0.000000</td>\n",
       "      <td>0.000000</td>\n",
       "      <td>0.000000</td>\n",
       "      <td>0.000000</td>\n",
       "    </tr>\n",
       "    <tr>\n",
       "      <th>75%</th>\n",
       "      <td>70.000000</td>\n",
       "      <td>0.000000</td>\n",
       "      <td>1.0</td>\n",
       "      <td>1.000000</td>\n",
       "      <td>0.000000</td>\n",
       "      <td>0.000000</td>\n",
       "      <td>1.000000</td>\n",
       "    </tr>\n",
       "    <tr>\n",
       "      <th>max</th>\n",
       "      <td>115.000000</td>\n",
       "      <td>1.000000</td>\n",
       "      <td>1.0</td>\n",
       "      <td>1.000000</td>\n",
       "      <td>1.000000</td>\n",
       "      <td>3.000000</td>\n",
       "      <td>1.000000</td>\n",
       "    </tr>\n",
       "  </tbody>\n",
       "</table>\n",
       "</div>"
      ],
      "text/plain": [
       "                age   scholarship  hypertension      diabetes    alcoholism  \\\n",
       "count  21149.000000  21149.000000       21149.0  21149.000000  21149.000000   \n",
       "mean      60.670717      0.084496           1.0      0.298832      0.056598   \n",
       "std       13.883610      0.278136           0.0      0.457757      0.231079   \n",
       "min        4.000000      0.000000           1.0      0.000000      0.000000   \n",
       "25%       52.000000      0.000000           1.0      0.000000      0.000000   \n",
       "50%       61.000000      0.000000           1.0      0.000000      0.000000   \n",
       "75%       70.000000      0.000000           1.0      1.000000      0.000000   \n",
       "max      115.000000      1.000000           1.0      1.000000      1.000000   \n",
       "\n",
       "           handicap  sms_received  \n",
       "count  21149.000000  21149.000000  \n",
       "mean       0.048324      0.324743  \n",
       "std        0.232035      0.468290  \n",
       "min        0.000000      0.000000  \n",
       "25%        0.000000      0.000000  \n",
       "50%        0.000000      0.000000  \n",
       "75%        0.000000      1.000000  \n",
       "max        3.000000      1.000000  "
      ]
     },
     "execution_count": 217,
     "metadata": {},
     "output_type": "execute_result"
    }
   ],
   "source": [
    "hypertension_df.describe()"
   ]
  },
  {
   "cell_type": "code",
   "execution_count": 218,
   "metadata": {},
   "outputs": [
    {
     "data": {
      "text/html": [
       "<div>\n",
       "<style scoped>\n",
       "    .dataframe tbody tr th:only-of-type {\n",
       "        vertical-align: middle;\n",
       "    }\n",
       "\n",
       "    .dataframe tbody tr th {\n",
       "        vertical-align: top;\n",
       "    }\n",
       "\n",
       "    .dataframe thead th {\n",
       "        text-align: right;\n",
       "    }\n",
       "</style>\n",
       "<table border=\"1\" class=\"dataframe\">\n",
       "  <thead>\n",
       "    <tr style=\"text-align: right;\">\n",
       "      <th></th>\n",
       "      <th>patient_id</th>\n",
       "      <th>gender</th>\n",
       "      <th>scheduled_day</th>\n",
       "      <th>appointment_day</th>\n",
       "      <th>neighbourhood</th>\n",
       "      <th>no_show</th>\n",
       "    </tr>\n",
       "  </thead>\n",
       "  <tbody>\n",
       "    <tr>\n",
       "      <th>count</th>\n",
       "      <td>21149</td>\n",
       "      <td>21149</td>\n",
       "      <td>21149</td>\n",
       "      <td>21149</td>\n",
       "      <td>21149</td>\n",
       "      <td>21149</td>\n",
       "    </tr>\n",
       "    <tr>\n",
       "      <th>unique</th>\n",
       "      <td>12242</td>\n",
       "      <td>2</td>\n",
       "      <td>98</td>\n",
       "      <td>27</td>\n",
       "      <td>78</td>\n",
       "      <td>2</td>\n",
       "    </tr>\n",
       "    <tr>\n",
       "      <th>top</th>\n",
       "      <td>1484143378533</td>\n",
       "      <td>F</td>\n",
       "      <td>2016-05-03</td>\n",
       "      <td>2016-05-02</td>\n",
       "      <td>JARDIM DA PENHA</td>\n",
       "      <td>No</td>\n",
       "    </tr>\n",
       "    <tr>\n",
       "      <th>freq</th>\n",
       "      <td>35</td>\n",
       "      <td>14945</td>\n",
       "      <td>863</td>\n",
       "      <td>879</td>\n",
       "      <td>974</td>\n",
       "      <td>17464</td>\n",
       "    </tr>\n",
       "  </tbody>\n",
       "</table>\n",
       "</div>"
      ],
      "text/plain": [
       "           patient_id gender scheduled_day appointment_day    neighbourhood  \\\n",
       "count           21149  21149         21149           21149            21149   \n",
       "unique          12242      2            98              27               78   \n",
       "top     1484143378533      F    2016-05-03      2016-05-02  JARDIM DA PENHA   \n",
       "freq               35  14945           863             879              974   \n",
       "\n",
       "       no_show  \n",
       "count    21149  \n",
       "unique       2  \n",
       "top         No  \n",
       "freq     17464  "
      ]
     },
     "execution_count": 218,
     "metadata": {},
     "output_type": "execute_result"
    }
   ],
   "source": [
    "hypertension_df.describe(include = \"object\")"
   ]
  },
  {
   "cell_type": "markdown",
   "metadata": {},
   "source": [
    "The minimum of age of hypertensive patients is 60 years old and median age 61 years old."
   ]
  },
  {
   "cell_type": "code",
   "execution_count": 219,
   "metadata": {
    "scrolled": false
   },
   "outputs": [
    {
     "data": {
      "image/png": "[encoded data removed]",
      "text/plain": [
       "<matplotlib.figure.Figure at 0x7f542fb8c278>"
      ]
     },
     "metadata": {
      "needs_background": "light"
     },
     "output_type": "display_data"
    }
   ],
   "source": [
    "#plot barplot for gender that have hypertension\n",
    "\n",
    "hypertension_df.drop_duplicates(subset = \"patient_id\")[\"gender\"].value_counts().plot(kind = \"bar\", rot = 0)\n",
    "plt.title(\"Bar plot of hypertensive cases in both gender\")\n",
    "plt.xlabel(\"Gender\", fontsize = 12, weight = \"bold\")\n",
    "plt.ylabel(\"count of hypertension cases\", fontsize = 12, weight = \"bold\");"
   ]
  },
  {
   "cell_type": "code",
   "execution_count": 220,
   "metadata": {},
   "outputs": [],
   "source": [
    "hyp_per_gender = patient_df.groupby(\"gender\")[\"hypertension\"].value_counts(normalize = True).unstack()[1]"
   ]
  },
  {
   "cell_type": "code",
   "execution_count": 221,
   "metadata": {},
   "outputs": [
    {
     "data": {
      "image/png": "[encoded data removed]",
      "text/plain": [
       "<matplotlib.figure.Figure at 0x7f5430aacfd0>"
      ]
     },
     "metadata": {
      "needs_background": "light"
     },
     "output_type": "display_data"
    }
   ],
   "source": [
    "#Plot proportions\n",
    "hyp_per_gender.plot(kind = \"bar\", rot = 0)\n",
    "plt.title(\"Proportion of hypertensive patients by gender\", weight = \"bold\")\n",
    "plt.xlabel(\"Gender\", fontsize = 12)\n",
    "plt.ylabel(\"Proportion of hypertension cases\", fontsize = 12);"
   ]
  },
  {
   "cell_type": "markdown",
   "metadata": {},
   "source": [
    "By proportion females record more hypertensions than males"
   ]
  },
  {
   "cell_type": "code",
   "execution_count": 222,
   "metadata": {},
   "outputs": [
    {
     "name": "stdout",
     "output_type": "stream",
     "text": [
      "The proportion of hypertension cases that return for reappointment is 82.58%\n"
     ]
    }
   ],
   "source": [
    "#The proportion of cases who have hypertension and go back for another appointment\n",
    "\n",
    "hyp_show = hypertension_df.query('no_show == \"No\"')\n",
    "hyp_prop = hyp_show.shape[0] / hypertension_df.shape[0]\n",
    "\n",
    "print(\"The proportion of hypertension cases that return for reappointment is {:.2f}%\".format(hyp_prop * 100))"
   ]
  },
  {
   "cell_type": "code",
   "execution_count": 223,
   "metadata": {},
   "outputs": [
    {
     "data": {
      "text/plain": [
       "0.0628165332462016"
      ]
     },
     "execution_count": 223,
     "metadata": {},
     "output_type": "execute_result"
    }
   ],
   "source": [
    "#Proportion of hyp patients that have scholarships and show up\n",
    "hyp_patients_sch = hypertension_df.drop_duplicates(\"patient_id\").query('no_show == \"No\" & scholarship == 1')\n",
    "hyp_patients_sch.shape[0]/hypertension_df.drop_duplicates(subset = \"patient_id\").shape[0]"
   ]
  },
  {
   "cell_type": "code",
   "execution_count": 224,
   "metadata": {},
   "outputs": [
    {
     "data": {
      "text/plain": [
       "0.0793987910472145"
      ]
     },
     "execution_count": 224,
     "metadata": {},
     "output_type": "execute_result"
    }
   ],
   "source": [
    "hyp_sch_count = hypertension_df.drop_duplicates(\"patient_id\").query('scholarship == 1').shape[0]\n",
    "hyp_total_count = hypertension_df.drop_duplicates(subset = \"patient_id\").shape[0]\n",
    "\n",
    "hyp_sch_prop = hyp_sch_count/hyp_total_count\n",
    "hyp_sch_prop"
   ]
  },
  {
   "cell_type": "markdown",
   "metadata": {},
   "source": [
    "6% of hypertensive patients have scholarships and go for appointments while 2% of hypertensive patients who have scholarships did not return for appointments"
   ]
  },
  {
   "cell_type": "markdown",
   "metadata": {},
   "source": [
    "### QUestion 4: How does the appointment day affects the people that show up"
   ]
  },
  {
   "cell_type": "code",
   "execution_count": 225,
   "metadata": {},
   "outputs": [],
   "source": [
    "#Feature Engineering process of converting the the date columns to datetime objects\n",
    "\n",
    "df['appointment_day'] = pd.to_datetime(df[\"appointment_day\"])\n",
    "df[\"scheduled_day\"] = pd.to_datetime(df[\"scheduled_day\"])"
   ]
  },
  {
   "cell_type": "code",
   "execution_count": 226,
   "metadata": {},
   "outputs": [],
   "source": [
    "df[\"appointment_weekday\"] = df[\"appointment_day\"].apply(lambda x: x.weekday())"
   ]
  },
  {
   "cell_type": "markdown",
   "metadata": {},
   "source": [
    "The above column (appointment_weekday) represents each day with the following key:\n",
    "* 0: Monday\n",
    "* 1: Tuesday\n",
    "* 2: Wednesday\n",
    "* 3: Thursday\n",
    "* 4: Friday\n",
    "* 5: Saturday\n",
    "* 6: Sunday"
   ]
  },
  {
   "cell_type": "code",
   "execution_count": 227,
   "metadata": {},
   "outputs": [],
   "source": [
    "#cut the weekdays into literal days\n",
    "df[\"appointment_days\"] = pd.cut(df[\"appointment_weekday\"], bins = [0, 1, 2, 3, 4, 5, 6, 7], labels = [\"Monday\", \n",
    "                                                                          \"Tuesday\", \"Wednesday\", \"Thursday\",\n",
    "                                                                         \"Friday\", \"Saturday\", \"Sunday\"], right = False)"
   ]
  },
  {
   "cell_type": "code",
   "execution_count": 228,
   "metadata": {},
   "outputs": [],
   "source": [
    "new_show_df = df.query(\"no_show == 'No'\")\n",
    "new_noshow_df = df.query(\"no_show == 'Yes'\")"
   ]
  },
  {
   "cell_type": "code",
   "execution_count": 229,
   "metadata": {},
   "outputs": [],
   "source": [
    "weekday_show = new_show_df[\"appointment_days\"].value_counts()"
   ]
  },
  {
   "cell_type": "code",
   "execution_count": 230,
   "metadata": {},
   "outputs": [],
   "source": [
    "weekday_noshow = new_noshow_df[\"appointment_days\"].value_counts()"
   ]
  },
  {
   "cell_type": "code",
   "execution_count": 231,
   "metadata": {},
   "outputs": [
    {
     "name": "stdout",
     "output_type": "stream",
     "text": [
      "0 Wednesday\n",
      "1 Tuesday\n",
      "2 Monday\n",
      "3 Friday\n",
      "4 Thursday\n",
      "5 Saturday\n",
      "6 Sunday\n"
     ]
    }
   ],
   "source": [
    "for i, j in enumerate(weekday_show.index):\n",
    "    print(i, j)"
   ]
  },
  {
   "cell_type": "code",
   "execution_count": 232,
   "metadata": {},
   "outputs": [
    {
     "name": "stdout",
     "output_type": "stream",
     "text": [
      "0 Tuesday\n",
      "1 Wednesday\n",
      "2 Monday\n",
      "3 Friday\n",
      "4 Thursday\n",
      "5 Saturday\n",
      "6 Sunday\n"
     ]
    }
   ],
   "source": [
    "for i, j in enumerate(weekday_noshow.index):\n",
    "    print(i, j)"
   ]
  },
  {
   "cell_type": "code",
   "execution_count": 233,
   "metadata": {},
   "outputs": [
    {
     "data": {
      "image/png": "[encoded data removed]",
      "text/plain": [
       "<matplotlib.figure.Figure at 0x7f54301e2ba8>"
      ]
     },
     "metadata": {
      "needs_background": "light"
     },
     "output_type": "display_data"
    }
   ],
   "source": [
    "#make a plot comapring the days of the week for those who turned up and those who did not\n",
    "ind_show = np.array([2, 1, 0, 4, 3, 5, 6])\n",
    "ind_noshow = np.array([2, 0, 1, 4, 3, 5, 6])\n",
    "width = 0.35\n",
    "\n",
    "show_plot = plt.bar(ind_show, weekday_show.values, width, color = \"green\", label = \"showed up\")\n",
    "no_show_plot = plt.bar(ind_noshow + width, weekday_noshow.values, width, color = \"red\", label = \"No show\")\n",
    "\n",
    "plt.title(\"Plot of days of the week for those that showed \\nup for appointment and those that did not show up\")\n",
    "plt.xlabel(\"Days of the week\", fontsize = 12, weight = \"bold\")\n",
    "plt.ylabel(\"Count\", fontsize = 12, weight = \"bold\")\n",
    "locations = np.array([0, 1, 2, 3, 4, 5, 6]) + width/2\n",
    "labels = [\"Mon\", \"Tue\", \"Wed\", \"Thur\", \"Fri\", \"Sat\", \"Sun\"]\n",
    "plt.xticks(locations, labels, rotation = 0)\n",
    "plt.legend()\n",
    "plt.show;"
   ]
  },
  {
   "cell_type": "markdown",
   "metadata": {},
   "source": [
    "Saturday and Sunday seem to be no appointment made.\n",
    "    However, Thursday and friday recorded the lowest number of appointments (among the weekdays) made and susbsequently the least show up or no show."
   ]
  },
  {
   "cell_type": "markdown",
   "metadata": {},
   "source": [
    "### Question 5: Proportion of people that received the SMS and showed Up"
   ]
  },
  {
   "cell_type": "code",
   "execution_count": 234,
   "metadata": {},
   "outputs": [
    {
     "data": {
      "text/html": [
       "<div>\n",
       "<style scoped>\n",
       "    .dataframe tbody tr th:only-of-type {\n",
       "        vertical-align: middle;\n",
       "    }\n",
       "\n",
       "    .dataframe tbody tr th {\n",
       "        vertical-align: top;\n",
       "    }\n",
       "\n",
       "    .dataframe thead th {\n",
       "        text-align: right;\n",
       "    }\n",
       "</style>\n",
       "<table border=\"1\" class=\"dataframe\">\n",
       "  <thead>\n",
       "    <tr style=\"text-align: right;\">\n",
       "      <th></th>\n",
       "      <th>patient_id</th>\n",
       "      <th>gender</th>\n",
       "      <th>scheduled_day</th>\n",
       "      <th>appointment_day</th>\n",
       "      <th>age</th>\n",
       "      <th>neighbourhood</th>\n",
       "      <th>scholarship</th>\n",
       "      <th>hypertension</th>\n",
       "      <th>diabetes</th>\n",
       "      <th>alcoholism</th>\n",
       "      <th>handicap</th>\n",
       "      <th>sms_received</th>\n",
       "      <th>no_show</th>\n",
       "      <th>appointment_weekday</th>\n",
       "      <th>appointment_days</th>\n",
       "    </tr>\n",
       "  </thead>\n",
       "  <tbody>\n",
       "    <tr>\n",
       "      <th>3</th>\n",
       "      <td>867951213174</td>\n",
       "      <td>F</td>\n",
       "      <td>2016-04-29</td>\n",
       "      <td>2016-04-29</td>\n",
       "      <td>8</td>\n",
       "      <td>PONTAL DE CAMBURI</td>\n",
       "      <td>0</td>\n",
       "      <td>0</td>\n",
       "      <td>0</td>\n",
       "      <td>0</td>\n",
       "      <td>0</td>\n",
       "      <td>0</td>\n",
       "      <td>No</td>\n",
       "      <td>4</td>\n",
       "      <td>Friday</td>\n",
       "    </tr>\n",
       "    <tr>\n",
       "      <th>4</th>\n",
       "      <td>8841186448183</td>\n",
       "      <td>F</td>\n",
       "      <td>2016-04-29</td>\n",
       "      <td>2016-04-29</td>\n",
       "      <td>56</td>\n",
       "      <td>JARDIM DA PENHA</td>\n",
       "      <td>0</td>\n",
       "      <td>1</td>\n",
       "      <td>1</td>\n",
       "      <td>0</td>\n",
       "      <td>0</td>\n",
       "      <td>0</td>\n",
       "      <td>No</td>\n",
       "      <td>4</td>\n",
       "      <td>Friday</td>\n",
       "    </tr>\n",
       "    <tr>\n",
       "      <th>5</th>\n",
       "      <td>95985133231274</td>\n",
       "      <td>F</td>\n",
       "      <td>2016-04-27</td>\n",
       "      <td>2016-04-29</td>\n",
       "      <td>76</td>\n",
       "      <td>REPÚBLICA</td>\n",
       "      <td>0</td>\n",
       "      <td>1</td>\n",
       "      <td>0</td>\n",
       "      <td>0</td>\n",
       "      <td>0</td>\n",
       "      <td>0</td>\n",
       "      <td>No</td>\n",
       "      <td>4</td>\n",
       "      <td>Friday</td>\n",
       "    </tr>\n",
       "    <tr>\n",
       "      <th>6</th>\n",
       "      <td>733688164476661</td>\n",
       "      <td>F</td>\n",
       "      <td>2016-04-27</td>\n",
       "      <td>2016-04-29</td>\n",
       "      <td>23</td>\n",
       "      <td>GOIABEIRAS</td>\n",
       "      <td>0</td>\n",
       "      <td>0</td>\n",
       "      <td>0</td>\n",
       "      <td>0</td>\n",
       "      <td>0</td>\n",
       "      <td>0</td>\n",
       "      <td>Yes</td>\n",
       "      <td>4</td>\n",
       "      <td>Friday</td>\n",
       "    </tr>\n",
       "    <tr>\n",
       "      <th>7</th>\n",
       "      <td>3449833394123</td>\n",
       "      <td>F</td>\n",
       "      <td>2016-04-27</td>\n",
       "      <td>2016-04-29</td>\n",
       "      <td>39</td>\n",
       "      <td>GOIABEIRAS</td>\n",
       "      <td>0</td>\n",
       "      <td>0</td>\n",
       "      <td>0</td>\n",
       "      <td>0</td>\n",
       "      <td>0</td>\n",
       "      <td>0</td>\n",
       "      <td>Yes</td>\n",
       "      <td>4</td>\n",
       "      <td>Friday</td>\n",
       "    </tr>\n",
       "  </tbody>\n",
       "</table>\n",
       "</div>"
      ],
      "text/plain": [
       "        patient_id gender scheduled_day appointment_day  age  \\\n",
       "3     867951213174      F    2016-04-29      2016-04-29    8   \n",
       "4    8841186448183      F    2016-04-29      2016-04-29   56   \n",
       "5   95985133231274      F    2016-04-27      2016-04-29   76   \n",
       "6  733688164476661      F    2016-04-27      2016-04-29   23   \n",
       "7    3449833394123      F    2016-04-27      2016-04-29   39   \n",
       "\n",
       "       neighbourhood  scholarship  hypertension  diabetes  alcoholism  \\\n",
       "3  PONTAL DE CAMBURI            0             0         0           0   \n",
       "4    JARDIM DA PENHA            0             1         1           0   \n",
       "5          REPÚBLICA            0             1         0           0   \n",
       "6         GOIABEIRAS            0             0         0           0   \n",
       "7         GOIABEIRAS            0             0         0           0   \n",
       "\n",
       "   handicap  sms_received no_show  appointment_weekday appointment_days  \n",
       "3         0             0      No                    4           Friday  \n",
       "4         0             0      No                    4           Friday  \n",
       "5         0             0      No                    4           Friday  \n",
       "6         0             0     Yes                    4           Friday  \n",
       "7         0             0     Yes                    4           Friday  "
      ]
     },
     "execution_count": 234,
     "metadata": {},
     "output_type": "execute_result"
    }
   ],
   "source": [
    "df.head()"
   ]
  },
  {
   "cell_type": "code",
   "execution_count": 235,
   "metadata": {},
   "outputs": [
    {
     "data": {
      "text/plain": [
       "sms_received\n",
       "0    0.831865\n",
       "1    0.724277\n",
       "Name: No, dtype: float64"
      ]
     },
     "execution_count": 235,
     "metadata": {},
     "output_type": "execute_result"
    }
   ],
   "source": [
    "# the number of people that received sms\n",
    "prop_show_sms = show_grouper(df, \"sms_received\").unstack()[\"No\"]\n",
    "prop_show_sms"
   ]
  },
  {
   "cell_type": "code",
   "execution_count": 236,
   "metadata": {},
   "outputs": [
    {
     "name": "stdout",
     "output_type": "stream",
     "text": [
      "The proportion of those who received sms and went for appoinment is 72.43%\n",
      "The proportion of those who did not receive sms and went for appoinment is 83.19%\n"
     ]
    }
   ],
   "source": [
    "print(\"The proportion of those who received sms and went for appoinment is {:.2f}%\".format(prop_show_sms[1] * 100))\n",
    "\n",
    "print(\"The proportion of those who did not receive sms and went for appoinment is {:.2f}%\".format(prop_show_sms[0] * 100))"
   ]
  },
  {
   "cell_type": "markdown",
   "metadata": {},
   "source": [
    "### Diseases Common among Patients"
   ]
  },
  {
   "cell_type": "code",
   "execution_count": 237,
   "metadata": {},
   "outputs": [
    {
     "name": "stdout",
     "output_type": "stream",
     "text": [
      "Proportion of diabetic cases that showed up for appointment is 83.24\n"
     ]
    }
   ],
   "source": [
    "total_diabetes = patient_df[\"diabetes\"].sum()\n",
    "show_diabetes = show_df[\"diabetes\"].sum()\n",
    "\n",
    "prop_diabetes_show = show_diabetes/total_diabetes\n",
    "\n",
    "print(\"Proportion of diabetic cases that showed up for appointment is {:.2f}\".format(prop_diabetes_show * 100))"
   ]
  },
  {
   "cell_type": "code",
   "execution_count": 238,
   "metadata": {},
   "outputs": [
    {
     "name": "stdout",
     "output_type": "stream",
     "text": [
      "Proportion of handicap cases that showed up for appointment is 85.00\n"
     ]
    }
   ],
   "source": [
    "total_handicap = patient_df[\"handicap\"].apply(lambda x: 1 if x >= 1 else 0).sum()\n",
    "show_handicap = show_df[\"handicap\"].apply(lambda x: 1 if x >= 1 else 0).sum() \n",
    "\n",
    "#Apply lambda function to change numbers greater than 1 to become 1\n",
    "\n",
    "prop_handicap_show = show_handicap/total_handicap\n",
    "\n",
    "print(\"Proportion of handicap cases that showed up for appointment is {:.2f}\".format(prop_handicap_show * 100))"
   ]
  },
  {
   "cell_type": "code",
   "execution_count": 239,
   "metadata": {},
   "outputs": [
    {
     "name": "stdout",
     "output_type": "stream",
     "text": [
      "Proportion of hypertensive cases that showed up for appointment is 84.03\n"
     ]
    }
   ],
   "source": [
    "total_hyp = patient_df[\"hypertension\"].sum()\n",
    "show_hyp = show_df[\"hypertension\"].sum()\n",
    "\n",
    "prop_hyp_show = show_hyp/total_hyp\n",
    "\n",
    "print(\"Proportion of hypertensive cases that showed up for appointment is {:.2f}\".format(prop_hyp_show * 100))"
   ]
  },
  {
   "cell_type": "markdown",
   "metadata": {},
   "source": [
    "The three cases of diseases listed above do not really show difference among the kind of patients that show up or not."
   ]
  },
  {
   "cell_type": "markdown",
   "metadata": {},
   "source": [
    "### Effect of neighbourhood on appointments"
   ]
  },
  {
   "cell_type": "code",
   "execution_count": 240,
   "metadata": {
    "scrolled": false
   },
   "outputs": [
    {
     "data": {
      "image/png": "[encoded data removed]",
      "text/plain": [
       "<matplotlib.figure.Figure at 0x7f542fe3bcf8>"
      ]
     },
     "metadata": {
      "needs_background": "light"
     },
     "output_type": "display_data"
    }
   ],
   "source": [
    "show_df[\"neighbourhood\"].value_counts()[:10].plot(kind = \"bar\", rot = 0, figsize = (15, 8))\n",
    "plt.title(\"Bar plot of top 10 neighbourhoods that show up for appointments\", fontsize = 19)\n",
    "plt.xlabel(\"Neighbourhod\", fontsize = 15, weight = \"bold\")\n",
    "plt.ylabel(\"count\", fontsize = 15, weight = \"bold\");"
   ]
  },
  {
   "cell_type": "markdown",
   "metadata": {},
   "source": [
    "The top ten neighboiurhood by the number of patient appointments generated from each neighbourhood"
   ]
  },
  {
   "cell_type": "code",
   "execution_count": null,
   "metadata": {},
   "outputs": [],
   "source": []
  },
  {
   "cell_type": "markdown",
   "metadata": {},
   "source": [
    "<a id='conclusions'></a>\n",
    "## Conclusions\n",
    "\n",
    ">- Generally there are more females in the dataset than males and can affect deterministic results.\n",
    ">- There are no appointments on weekned days.\n",
    ">-Tuesday and Wednesday happens to be the busiest days of the week for the health center\n",
    ">- Age 0 to 4 recorded the most appointments among other age ranges.\n",
    ">- More information can be developed on each category of cases classified by the different cases of diseases.\n",
    ">- The actual location of the hospital and geographcal coordinates of the different locations present in the dataset could make the diffenece to examine the efffect of distance on those who came for appointments and thsoe who did not.\n",
    ">- The top neighbourhood that has turned out for appointments is Jardim Camburi\n",
    "\n",
    "### Limitations\n",
    ">- The sampling method has more females than males\n",
    ">- Although we see a higher percentage around those who did not receive SMS and showwed up, the lack of further information and further experimentation about the selection criteria of those chosen for receieving this SMS."
   ]
  },
  {
   "cell_type": "code",
   "execution_count": 224,
   "metadata": {},
   "outputs": [
    {
     "data": {
      "text/plain": [
       "0"
      ]
     },
     "execution_count": 224,
     "metadata": {},
     "output_type": "execute_result"
    }
   ],
   "source": [
    "from subprocess import call\n",
    "call(['python', '-m', 'nbconvert', 'Investigate_a_Dataset.ipynb'])"
   ]
  },
  {
   "cell_type": "code",
   "execution_count": null,
   "metadata": {},
   "outputs": [],
   "source": []
  }
 ],
 "metadata": {
  "kernelspec": {
   "display_name": "Python 3",
   "language": "python",
   "name": "python3"
  },
  "language_info": {
   "codemirror_mode": {
    "name": "ipython",
    "version": 3
   },
   "file_extension": ".py",
   "mimetype": "text/x-python",
   "name": "python",
   "nbconvert_exporter": "python",
   "pygments_lexer": "ipython3",
   "version": "3.6.3"
  }
 },
 "nbformat": 4,
 "nbformat_minor": 2
}
